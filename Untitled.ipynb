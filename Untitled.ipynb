{
 "cells": [
  {
   "cell_type": "code",
   "execution_count": 1,
   "id": "cd114bb1",
   "metadata": {},
   "outputs": [],
   "source": [
    "from rosbags.rosbag2 import Reader\n",
    "from rosbags.serde import deserialize_cdr"
   ]
  },
  {
   "cell_type": "code",
   "execution_count": 8,
   "id": "adc9f319",
   "metadata": {},
   "outputs": [
    {
     "ename": "ReaderError",
     "evalue": "Could not read metadata at C:\\Users\\sadeghianr\\Desktop\\LIDAR_CEFRAIL\\Data_Nov29_11_41_05.bag\\metadata.yaml: [Errno 2] No such file or directory: 'C:\\\\Users\\\\sadeghianr\\\\Desktop\\\\LIDAR_CEFRAIL\\\\Data_Nov29_11_41_05.bag\\\\metadata.yaml'.",
     "output_type": "error",
     "traceback": [
      "\u001b[1;31m---------------------------------------------------------------------------\u001b[0m",
      "\u001b[1;31mReaderError\u001b[0m                               Traceback (most recent call last)",
      "Cell \u001b[1;32mIn[8], line 2\u001b[0m\n\u001b[0;32m      1\u001b[0m \u001b[38;5;66;03m# create reader instance and open for reading\u001b[39;00m\n\u001b[1;32m----> 2\u001b[0m \u001b[38;5;28;01mwith\u001b[39;00m \u001b[43mReader\u001b[49m\u001b[43m(\u001b[49m\u001b[38;5;124;43m\"\u001b[39;49m\u001b[38;5;124;43mC:/Users/sadeghianr/Desktop/LIDAR_CEFRAIL/Data_Nov29_11_41_05.bag\u001b[39;49m\u001b[38;5;124;43m\"\u001b[39;49m\u001b[43m)\u001b[49m \u001b[38;5;28;01mas\u001b[39;00m reader:\n\u001b[0;32m      3\u001b[0m     connections \u001b[38;5;241m=\u001b[39m [x \u001b[38;5;28;01mfor\u001b[39;00m x \u001b[38;5;129;01min\u001b[39;00m reader\u001b[38;5;241m.\u001b[39mconnections \u001b[38;5;28;01mif\u001b[39;00m x\u001b[38;5;241m.\u001b[39mtopic \u001b[38;5;241m==\u001b[39m \u001b[38;5;124m'\u001b[39m\u001b[38;5;124m/imu_raw/Imu\u001b[39m\u001b[38;5;124m'\u001b[39m]\n\u001b[0;32m      4\u001b[0m     \u001b[38;5;28;01mfor\u001b[39;00m connection, timestamp, rawdata \u001b[38;5;129;01min\u001b[39;00m reader\u001b[38;5;241m.\u001b[39mmessages(connections\u001b[38;5;241m=\u001b[39mconnections):\n",
      "File \u001b[1;32m~\\.conda\\envs\\datafusion\\lib\\site-packages\\rosbags\\rosbag2\\reader.py:90\u001b[0m, in \u001b[0;36mReader.__init__\u001b[1;34m(self, path)\u001b[0m\n\u001b[0;32m     88\u001b[0m     dct \u001b[38;5;241m=\u001b[39m yaml\u001b[38;5;241m.\u001b[39mload(yamlpath\u001b[38;5;241m.\u001b[39mread_text())\n\u001b[0;32m     89\u001b[0m \u001b[38;5;28;01mexcept\u001b[39;00m \u001b[38;5;167;01mOSError\u001b[39;00m \u001b[38;5;28;01mas\u001b[39;00m err:\n\u001b[1;32m---> 90\u001b[0m     \u001b[38;5;28;01mraise\u001b[39;00m ReaderError(\u001b[38;5;124mf\u001b[39m\u001b[38;5;124m'\u001b[39m\u001b[38;5;124mCould not read metadata at \u001b[39m\u001b[38;5;132;01m{\u001b[39;00myamlpath\u001b[38;5;132;01m}\u001b[39;00m\u001b[38;5;124m: \u001b[39m\u001b[38;5;132;01m{\u001b[39;00merr\u001b[38;5;132;01m}\u001b[39;00m\u001b[38;5;124m.\u001b[39m\u001b[38;5;124m'\u001b[39m) \u001b[38;5;28;01mfrom\u001b[39;00m \u001b[38;5;28mNone\u001b[39m\n\u001b[0;32m     91\u001b[0m \u001b[38;5;28;01mexcept\u001b[39;00m YAMLError \u001b[38;5;28;01mas\u001b[39;00m exc:\n\u001b[0;32m     92\u001b[0m     \u001b[38;5;28;01mraise\u001b[39;00m ReaderError(\u001b[38;5;124mf\u001b[39m\u001b[38;5;124m'\u001b[39m\u001b[38;5;124mCould not load YAML from \u001b[39m\u001b[38;5;132;01m{\u001b[39;00myamlpath\u001b[38;5;132;01m}\u001b[39;00m\u001b[38;5;124m: \u001b[39m\u001b[38;5;132;01m{\u001b[39;00mexc\u001b[38;5;132;01m}\u001b[39;00m\u001b[38;5;124m'\u001b[39m) \u001b[38;5;28;01mfrom\u001b[39;00m \u001b[38;5;28mNone\u001b[39m\n",
      "\u001b[1;31mReaderError\u001b[0m: Could not read metadata at C:\\Users\\sadeghianr\\Desktop\\LIDAR_CEFRAIL\\Data_Nov29_11_41_05.bag\\metadata.yaml: [Errno 2] No such file or directory: 'C:\\\\Users\\\\sadeghianr\\\\Desktop\\\\LIDAR_CEFRAIL\\\\Data_Nov29_11_41_05.bag\\\\metadata.yaml'."
     ]
    }
   ],
   "source": [
    "# create reader instance and open for reading\n",
    "with Reader(\"C:/Users/sadeghianr/Desktop/LIDAR_CEFRAIL/Data_Nov29_11_41_05.bag\") as reader:\n",
    "    connections = [x for x in reader.connections if x.topic == '/imu_raw/Imu']\n",
    "    for connection, timestamp, rawdata in reader.messages(connections=connections):\n",
    "         msg = deserialize_cdr(rawdata, connection.msgtype)\n",
    "         print(msg.header.frame_id)"
   ]
  },
  {
   "cell_type": "code",
   "execution_count": 15,
   "id": "d89b1a81",
   "metadata": {},
   "outputs": [],
   "source": [
    "import rosbag\n",
    "bag = rosbag.Bag(\"C:/Users/sadeghianr/Desktop/LIDAR_CEFRAIL/Data_Nov29_11_41_05.bag\")\n",
    "for topic, msg, t in bag.read_messages(topics=['chatter', 'numbers']):\n",
    "    print(msg)\n",
    "    print(topic)\n",
    "#bag.close()"
   ]
  },
  {
   "cell_type": "code",
   "execution_count": 20,
   "id": "65a3c47a",
   "metadata": {},
   "outputs": [
    {
     "name": "stdout",
     "output_type": "stream",
     "text": [
      "[INFO]  Successfully created the data folder C:/Users/sadeghianr/Desktop/LIDAR_CEFRAIL/Data_Nov29_11_19_08.\n",
      "                                               Topics  \\\n",
      "0                                 /filter/positionlla   \n",
      "1                                  /filter/quaternion   \n",
      "2                                       /filter/twist   \n",
      "3                                    /filter/velocity   \n",
      "4                                               /gnss   \n",
      "5                                   /imu/acceleration   \n",
      "6                               /imu/angular_velocity   \n",
      "7                                           /imu/data   \n",
      "8                                            /imu/mag   \n",
      "9                                             /rosout   \n",
      "10                                       /temperature   \n",
      "11                     /velodyne_nodelet_manager/bond   \n",
      "12  /velodyne_nodelet_manager_driver/parameter_des...   \n",
      "13  /velodyne_nodelet_manager_driver/parameter_upd...   \n",
      "14  /velodyne_nodelet_manager_laserscan/parameter_...   \n",
      "15  /velodyne_nodelet_manager_laserscan/parameter_...   \n",
      "16  /velodyne_nodelet_manager_transform/parameter_...   \n",
      "17  /velodyne_nodelet_manager_transform/parameter_...   \n",
      "18                                  /velodyne_packets   \n",
      "19                                   /velodyne_points   \n",
      "\n",
      "                                    Types  Message Count      Frequency  \n",
      "0            geometry_msgs/Vector3Stamped          49096     472.331532  \n",
      "1         geometry_msgs/QuaternionStamped          49097     473.344318  \n",
      "2              geometry_msgs/TwistStamped          49096     472.917353  \n",
      "3            geometry_msgs/Vector3Stamped          49095     471.641066  \n",
      "4                   sensor_msgs/NavSatFix            491       4.000740  \n",
      "5            geometry_msgs/Vector3Stamped          49094     472.917353  \n",
      "6            geometry_msgs/Vector3Stamped          49094     474.254184  \n",
      "7                         sensor_msgs/Imu          49095     473.504629  \n",
      "8            geometry_msgs/Vector3Stamped          12273      97.385683  \n",
      "9                       rosgraph_msgs/Log             13  335544.320000  \n",
      "10                sensor_msgs/Temperature          49091     473.397743  \n",
      "11                            bond/Status            738     173.669993  \n",
      "12  dynamic_reconfigure/ConfigDescription              1            NaN  \n",
      "13             dynamic_reconfigure/Config              1            NaN  \n",
      "14  dynamic_reconfigure/ConfigDescription              1            NaN  \n",
      "15             dynamic_reconfigure/Config              1            NaN  \n",
      "16  dynamic_reconfigure/ConfigDescription              1            NaN  \n",
      "17             dynamic_reconfigure/Config              1            NaN  \n",
      "18             velodyne_msgs/VelodyneScan           1224       9.980806  \n",
      "19                sensor_msgs/PointCloud2           1225       9.981471  \n"
     ]
    },
    {
     "ename": "ValueError",
     "evalue": "Invalid file path or buffer object type: <class 'list'>",
     "output_type": "error",
     "traceback": [
      "\u001b[1;31m---------------------------------------------------------------------------\u001b[0m",
      "\u001b[1;31mValueError\u001b[0m                                Traceback (most recent call last)",
      "Cell \u001b[1;32mIn[20], line 12\u001b[0m\n\u001b[0;32m     10\u001b[0m \u001b[38;5;66;03m# get all the messages of type velocity\u001b[39;00m\n\u001b[0;32m     11\u001b[0m velmsgs   \u001b[38;5;241m=\u001b[39m b\u001b[38;5;241m.\u001b[39mvel_data()\n\u001b[1;32m---> 12\u001b[0m veldf \u001b[38;5;241m=\u001b[39m \u001b[43mpd\u001b[49m\u001b[38;5;241;43m.\u001b[39;49m\u001b[43mread_csv\u001b[49m\u001b[43m(\u001b[49m\u001b[43mvelmsgs\u001b[49m\u001b[43m)\u001b[49m\n\u001b[0;32m     13\u001b[0m plt\u001b[38;5;241m.\u001b[39mplot(veldf[\u001b[38;5;124m'\u001b[39m\u001b[38;5;124mTime\u001b[39m\u001b[38;5;124m'\u001b[39m], veldf[\u001b[38;5;124m'\u001b[39m\u001b[38;5;124mlinear.x\u001b[39m\u001b[38;5;124m'\u001b[39m])\n",
      "File \u001b[1;32m~\\.conda\\envs\\datafusion\\lib\\site-packages\\pandas\\util\\_decorators.py:211\u001b[0m, in \u001b[0;36mdeprecate_kwarg.<locals>._deprecate_kwarg.<locals>.wrapper\u001b[1;34m(*args, **kwargs)\u001b[0m\n\u001b[0;32m    209\u001b[0m     \u001b[38;5;28;01melse\u001b[39;00m:\n\u001b[0;32m    210\u001b[0m         kwargs[new_arg_name] \u001b[38;5;241m=\u001b[39m new_arg_value\n\u001b[1;32m--> 211\u001b[0m \u001b[38;5;28;01mreturn\u001b[39;00m func(\u001b[38;5;241m*\u001b[39margs, \u001b[38;5;241m*\u001b[39m\u001b[38;5;241m*\u001b[39mkwargs)\n",
      "File \u001b[1;32m~\\.conda\\envs\\datafusion\\lib\\site-packages\\pandas\\util\\_decorators.py:331\u001b[0m, in \u001b[0;36mdeprecate_nonkeyword_arguments.<locals>.decorate.<locals>.wrapper\u001b[1;34m(*args, **kwargs)\u001b[0m\n\u001b[0;32m    325\u001b[0m \u001b[38;5;28;01mif\u001b[39;00m \u001b[38;5;28mlen\u001b[39m(args) \u001b[38;5;241m>\u001b[39m num_allow_args:\n\u001b[0;32m    326\u001b[0m     warnings\u001b[38;5;241m.\u001b[39mwarn(\n\u001b[0;32m    327\u001b[0m         msg\u001b[38;5;241m.\u001b[39mformat(arguments\u001b[38;5;241m=\u001b[39m_format_argument_list(allow_args)),\n\u001b[0;32m    328\u001b[0m         \u001b[38;5;167;01mFutureWarning\u001b[39;00m,\n\u001b[0;32m    329\u001b[0m         stacklevel\u001b[38;5;241m=\u001b[39mfind_stack_level(),\n\u001b[0;32m    330\u001b[0m     )\n\u001b[1;32m--> 331\u001b[0m \u001b[38;5;28;01mreturn\u001b[39;00m func(\u001b[38;5;241m*\u001b[39margs, \u001b[38;5;241m*\u001b[39m\u001b[38;5;241m*\u001b[39mkwargs)\n",
      "File \u001b[1;32m~\\.conda\\envs\\datafusion\\lib\\site-packages\\pandas\\io\\parsers\\readers.py:950\u001b[0m, in \u001b[0;36mread_csv\u001b[1;34m(filepath_or_buffer, sep, delimiter, header, names, index_col, usecols, squeeze, prefix, mangle_dupe_cols, dtype, engine, converters, true_values, false_values, skipinitialspace, skiprows, skipfooter, nrows, na_values, keep_default_na, na_filter, verbose, skip_blank_lines, parse_dates, infer_datetime_format, keep_date_col, date_parser, dayfirst, cache_dates, iterator, chunksize, compression, thousands, decimal, lineterminator, quotechar, quoting, doublequote, escapechar, comment, encoding, encoding_errors, dialect, error_bad_lines, warn_bad_lines, on_bad_lines, delim_whitespace, low_memory, memory_map, float_precision, storage_options)\u001b[0m\n\u001b[0;32m    935\u001b[0m kwds_defaults \u001b[38;5;241m=\u001b[39m _refine_defaults_read(\n\u001b[0;32m    936\u001b[0m     dialect,\n\u001b[0;32m    937\u001b[0m     delimiter,\n\u001b[1;32m   (...)\u001b[0m\n\u001b[0;32m    946\u001b[0m     defaults\u001b[38;5;241m=\u001b[39m{\u001b[38;5;124m\"\u001b[39m\u001b[38;5;124mdelimiter\u001b[39m\u001b[38;5;124m\"\u001b[39m: \u001b[38;5;124m\"\u001b[39m\u001b[38;5;124m,\u001b[39m\u001b[38;5;124m\"\u001b[39m},\n\u001b[0;32m    947\u001b[0m )\n\u001b[0;32m    948\u001b[0m kwds\u001b[38;5;241m.\u001b[39mupdate(kwds_defaults)\n\u001b[1;32m--> 950\u001b[0m \u001b[38;5;28;01mreturn\u001b[39;00m \u001b[43m_read\u001b[49m\u001b[43m(\u001b[49m\u001b[43mfilepath_or_buffer\u001b[49m\u001b[43m,\u001b[49m\u001b[43m \u001b[49m\u001b[43mkwds\u001b[49m\u001b[43m)\u001b[49m\n",
      "File \u001b[1;32m~\\.conda\\envs\\datafusion\\lib\\site-packages\\pandas\\io\\parsers\\readers.py:605\u001b[0m, in \u001b[0;36m_read\u001b[1;34m(filepath_or_buffer, kwds)\u001b[0m\n\u001b[0;32m    602\u001b[0m _validate_names(kwds\u001b[38;5;241m.\u001b[39mget(\u001b[38;5;124m\"\u001b[39m\u001b[38;5;124mnames\u001b[39m\u001b[38;5;124m\"\u001b[39m, \u001b[38;5;28;01mNone\u001b[39;00m))\n\u001b[0;32m    604\u001b[0m \u001b[38;5;66;03m# Create the parser.\u001b[39;00m\n\u001b[1;32m--> 605\u001b[0m parser \u001b[38;5;241m=\u001b[39m TextFileReader(filepath_or_buffer, \u001b[38;5;241m*\u001b[39m\u001b[38;5;241m*\u001b[39mkwds)\n\u001b[0;32m    607\u001b[0m \u001b[38;5;28;01mif\u001b[39;00m chunksize \u001b[38;5;129;01mor\u001b[39;00m iterator:\n\u001b[0;32m    608\u001b[0m     \u001b[38;5;28;01mreturn\u001b[39;00m parser\n",
      "File \u001b[1;32m~\\.conda\\envs\\datafusion\\lib\\site-packages\\pandas\\io\\parsers\\readers.py:1442\u001b[0m, in \u001b[0;36mTextFileReader.__init__\u001b[1;34m(self, f, engine, **kwds)\u001b[0m\n\u001b[0;32m   1439\u001b[0m     \u001b[38;5;28mself\u001b[39m\u001b[38;5;241m.\u001b[39moptions[\u001b[38;5;124m\"\u001b[39m\u001b[38;5;124mhas_index_names\u001b[39m\u001b[38;5;124m\"\u001b[39m] \u001b[38;5;241m=\u001b[39m kwds[\u001b[38;5;124m\"\u001b[39m\u001b[38;5;124mhas_index_names\u001b[39m\u001b[38;5;124m\"\u001b[39m]\n\u001b[0;32m   1441\u001b[0m \u001b[38;5;28mself\u001b[39m\u001b[38;5;241m.\u001b[39mhandles: IOHandles \u001b[38;5;241m|\u001b[39m \u001b[38;5;28;01mNone\u001b[39;00m \u001b[38;5;241m=\u001b[39m \u001b[38;5;28;01mNone\u001b[39;00m\n\u001b[1;32m-> 1442\u001b[0m \u001b[38;5;28mself\u001b[39m\u001b[38;5;241m.\u001b[39m_engine \u001b[38;5;241m=\u001b[39m \u001b[38;5;28;43mself\u001b[39;49m\u001b[38;5;241;43m.\u001b[39;49m\u001b[43m_make_engine\u001b[49m\u001b[43m(\u001b[49m\u001b[43mf\u001b[49m\u001b[43m,\u001b[49m\u001b[43m \u001b[49m\u001b[38;5;28;43mself\u001b[39;49m\u001b[38;5;241;43m.\u001b[39;49m\u001b[43mengine\u001b[49m\u001b[43m)\u001b[49m\n",
      "File \u001b[1;32m~\\.conda\\envs\\datafusion\\lib\\site-packages\\pandas\\io\\parsers\\readers.py:1750\u001b[0m, in \u001b[0;36mTextFileReader._make_engine\u001b[1;34m(self, f, engine)\u001b[0m\n\u001b[0;32m   1748\u001b[0m \u001b[38;5;28;01melif\u001b[39;00m engine \u001b[38;5;241m!=\u001b[39m \u001b[38;5;124m\"\u001b[39m\u001b[38;5;124mpython\u001b[39m\u001b[38;5;124m\"\u001b[39m:\n\u001b[0;32m   1749\u001b[0m     msg \u001b[38;5;241m=\u001b[39m \u001b[38;5;124mf\u001b[39m\u001b[38;5;124m\"\u001b[39m\u001b[38;5;124mInvalid file path or buffer object type: \u001b[39m\u001b[38;5;132;01m{\u001b[39;00m\u001b[38;5;28mtype\u001b[39m(f)\u001b[38;5;132;01m}\u001b[39;00m\u001b[38;5;124m\"\u001b[39m\n\u001b[1;32m-> 1750\u001b[0m     \u001b[38;5;28;01mraise\u001b[39;00m \u001b[38;5;167;01mValueError\u001b[39;00m(msg)\n\u001b[0;32m   1752\u001b[0m \u001b[38;5;28;01mtry\u001b[39;00m:\n\u001b[0;32m   1753\u001b[0m     \u001b[38;5;28;01mreturn\u001b[39;00m mapping[engine](f, \u001b[38;5;241m*\u001b[39m\u001b[38;5;241m*\u001b[39m\u001b[38;5;28mself\u001b[39m\u001b[38;5;241m.\u001b[39moptions)\n",
      "\u001b[1;31mValueError\u001b[0m: Invalid file path or buffer object type: <class 'list'>"
     ]
    }
   ],
   "source": [
    "import bagpy\n",
    "from bagpy import bagreader\n",
    "import pandas as pd\n",
    "\n",
    "b = bagreader(\"C:/Users/sadeghianr/Desktop/LIDAR_CEFRAIL/Data_Nov29_11_19_08.bag\")\n",
    "\n",
    "# get the list of topics\n",
    "print(b.topic_table)\n",
    "\n",
    "# get all the messages of type velocity\n",
    "velmsgs   = b.vel_data()\n",
    "veldf = pd.read_csv(velmsgs)\n",
    "plt.plot(veldf['Time'], veldf['linear.x'])"
   ]
  },
  {
   "cell_type": "code",
   "execution_count": 18,
   "id": "ffef85ea",
   "metadata": {},
   "outputs": [],
   "source": []
  },
  {
   "cell_type": "code",
   "execution_count": null,
   "id": "fdd6be31",
   "metadata": {},
   "outputs": [],
   "source": []
  }
 ],
 "metadata": {
  "kernelspec": {
   "display_name": "Python 3 (ipykernel)",
   "language": "python",
   "name": "python3"
  },
  "language_info": {
   "codemirror_mode": {
    "name": "ipython",
    "version": 3
   },
   "file_extension": ".py",
   "mimetype": "text/x-python",
   "name": "python",
   "nbconvert_exporter": "python",
   "pygments_lexer": "ipython3",
   "version": "3.10.8"
  }
 },
 "nbformat": 4,
 "nbformat_minor": 5
}
